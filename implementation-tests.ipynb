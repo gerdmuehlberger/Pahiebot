{
 "cells": [
  {
   "cell_type": "code",
   "execution_count": 7,
   "metadata": {},
   "outputs": [],
   "source": [
    "#################\n",
    "## MYSQL STUFF ##\n",
    "#################"
   ]
  },
  {
   "cell_type": "code",
   "execution_count": 8,
   "metadata": {
    "scrolled": true
   },
   "outputs": [],
   "source": [
    "import os\n",
    "import mysql.connector\n",
    "from mysql.connector import errorcode\n",
    "from pathlib import Path\n",
    "import json\n",
    "import logging\n",
    "\n",
    "\n",
    "currentWorkingDirectory = os.path.abspath('')\n",
    "secretFile = json.load(open(currentWorkingDirectory+'/config/secrets.json'))\n",
    "dbhost = secretFile['dbhost']\n",
    "dbname = secretFile['db']\n",
    "dbuser = secretFile['dbuser']\n",
    "dbpass = secretFile['dbpass']\n"
   ]
  },
  {
   "cell_type": "code",
   "execution_count": 14,
   "metadata": {},
   "outputs": [
    {
     "name": "stdout",
     "output_type": "stream",
     "text": [
      "connection to db successfully established.\n"
     ]
    }
   ],
   "source": [
    "try:\n",
    "    cnx = mysql.connector.connect(user=dbuser, password=dbpass,\n",
    "                                  host=dbhost,\n",
    "                                  database=dbname)\n",
    "    print(\"connection to db successfully established.\")\n",
    "\n",
    "except mysql.connector.Error as err:\n",
    "  if err.errno == errorcode.ER_ACCESS_DENIED_ERROR:\n",
    "    print(\"Invalid user credentials.\")\n",
    "  elif err.errno == errorcode.ER_BAD_DB_ERROR:\n",
    "    print(\"Database does not exist\")\n",
    "  else:\n",
    "    print(err)\n",
    "    cnx.close()"
   ]
  },
  {
   "cell_type": "code",
   "execution_count": 5,
   "metadata": {},
   "outputs": [
    {
     "name": "stdout",
     "output_type": "stream",
     "text": [
      "error:  1062 (23000): Duplicate entry '12345' for key 'PRIMARY'\n"
     ]
    }
   ],
   "source": [
    "#\n",
    "# insert a userid to usertable table example\n",
    "#\n",
    "def insert_user(uid):\n",
    "    query = \"INSERT INTO users VALUES (%s)\"\n",
    "    args = (uid, )\n",
    "\n",
    "    try:\n",
    "        cursor = cnx.cursor()\n",
    "        cursor.execute(query, args)\n",
    "\n",
    "        cnx.commit()\n",
    "        \n",
    "    except Exception as e:\n",
    "        print(\"error: \", e)\n",
    "\n",
    "    finally:\n",
    "        cursor.close()\n",
    "        \n",
    "insert_user(12345)"
   ]
  },
  {
   "cell_type": "code",
   "execution_count": 11,
   "metadata": {},
   "outputs": [
    {
     "name": "stdout",
     "output_type": "stream",
     "text": [
      "starting operation: find_user\n"
     ]
    },
    {
     "data": {
      "text/plain": [
       "False"
      ]
     },
     "execution_count": 11,
     "metadata": {},
     "output_type": "execute_result"
    }
   ],
   "source": [
    "#\n",
    "# check if userid already exists\n",
    "#\n",
    "def find_user(uid):\n",
    "    query = \"SELECT * FROM users WHERE uid=%s\"\n",
    "    args = (uid,)\n",
    "\n",
    "    try:\n",
    "        print(\"starting operation: find_user\")\n",
    "        cursor = cnx.cursor(buffered=True)\n",
    "        cursor.execute(query, args)\n",
    "        rows = cursor.fetchall()\n",
    "\n",
    "        if len(rows) > 0:\n",
    "            #if user already exists in db return False\n",
    "            return True\n",
    "        else:\n",
    "            #if user does not exist in db return False\n",
    "            return False\n",
    "\n",
    "    except Exception as e:\n",
    "        print(e)\n",
    "\n",
    "    finally:\n",
    "        cursor.close()\n",
    "\n",
    "\n",
    "        \n",
    "find_user(1234)\n",
    "    \n",
    "\n"
   ]
  },
  {
   "cell_type": "code",
   "execution_count": 36,
   "metadata": {},
   "outputs": [
    {
     "name": "stdout",
     "output_type": "stream",
     "text": [
      "starting operation: find_soundfile\n"
     ]
    },
    {
     "data": {
      "text/plain": [
       "True"
      ]
     },
     "execution_count": 36,
     "metadata": {},
     "output_type": "execute_result"
    }
   ],
   "source": [
    "def find_soundfile(soundfilename):\n",
    "\n",
    "    query = \"SELECT * FROM soundfiles WHERE file_name=%s\"\n",
    "    args = (soundfilename,)\n",
    "\n",
    "    try:\n",
    "        print(\"starting operation: find_soundfile\")\n",
    "        cursor = cnx.cursor(buffered=True)\n",
    "        cursor.execute(query, args)\n",
    "        rows = cursor.fetchall()\n",
    "\n",
    "        if len(rows) > 0:\n",
    "            #if user already exists in db return False\n",
    "            soundfile_id = rows[0][0]\n",
    "            return True\n",
    "        else:\n",
    "            #if user does not exist in db return False\n",
    "            return False\n",
    "\n",
    "    except Exception as e:\n",
    "        print(e)\n",
    "\n",
    "    finally:\n",
    "        cursor.close()\n",
    "        \n",
    "        \n",
    "find_soundfile('autism')"
   ]
  },
  {
   "cell_type": "code",
   "execution_count": 44,
   "metadata": {},
   "outputs": [
    {
     "name": "stdout",
     "output_type": "stream",
     "text": [
      "starting operation: get_soundfile_id\n"
     ]
    },
    {
     "data": {
      "text/plain": [
       "2"
      ]
     },
     "execution_count": 44,
     "metadata": {},
     "output_type": "execute_result"
    }
   ],
   "source": [
    "def get_soundfile_id(soundfilename):\n",
    "    query = \"SELECT * FROM soundfiles WHERE file_name=%s\"\n",
    "    args = (soundfilename,)\n",
    "\n",
    "    try:\n",
    "        print(\"starting operation: get_soundfile_id\")\n",
    "        cursor = cnx.cursor(buffered=True)\n",
    "        cursor.execute(query, args)\n",
    "        rows = cursor.fetchall()\n",
    "\n",
    "        if len(rows) > 0:\n",
    "            #if user already exists in db return False\n",
    "            soundfile_id = rows[0][0]\n",
    "            return soundfile_id\n",
    "        else:\n",
    "            #if user does not exist in db return False\n",
    "            return -1\n",
    "\n",
    "    except Exception as e:\n",
    "        print(e)\n",
    "\n",
    "    finally:\n",
    "        cursor.close()\n",
    "        \n",
    "get_soundfile_id('autism')"
   ]
  },
  {
   "cell_type": "code",
   "execution_count": 61,
   "metadata": {},
   "outputs": [
    {
     "name": "stdout",
     "output_type": "stream",
     "text": [
      "starting operation: find_keyword_for_user\n"
     ]
    },
    {
     "data": {
      "text/plain": [
       "True"
      ]
     },
     "execution_count": 61,
     "metadata": {},
     "output_type": "execute_result"
    }
   ],
   "source": [
    "def find_keyword_for_user(user_id, hotkeyword):\n",
    "    query = \"SELECT * FROM user_soundfiles WHERE user_id=%s AND soundkeyword=%s\"\n",
    "    args = (user_id, hotkeyword)\n",
    "\n",
    "    try:\n",
    "        print(\"starting operation: find_keyword_for_user\")\n",
    "        cursor = cnx.cursor(buffered=True)\n",
    "        cursor.execute(query, args)\n",
    "        rows = cursor.fetchall()\n",
    "\n",
    "        if len(rows) > 0:\n",
    "            #if user already exists in db return False\n",
    "            return True\n",
    "        else:\n",
    "            #if user does not exist in db return False\n",
    "            return False\n",
    "\n",
    "    except Exception as e:\n",
    "        print(e)\n",
    "\n",
    "    finally:\n",
    "        cursor.close()\n",
    "\n",
    "\n",
    "        \n",
    "find_keyword_for_user(286615413381529601, 'ho')"
   ]
  },
  {
   "cell_type": "code",
   "execution_count": 63,
   "metadata": {},
   "outputs": [],
   "source": [
    "def insert_user_soundfile(user_id, soundfile_id, soundkeyword):\n",
    "    query = \"INSERT INTO user_soundfiles VALUES (%s, %s, %s)\"\n",
    "    args = (user_id, soundfile_id, soundkeyword)\n",
    "\n",
    "    try:\n",
    "        cursor = cnx.cursor()\n",
    "        cursor.execute(query, args)\n",
    "\n",
    "        cnx.commit()\n",
    "        \n",
    "    except Exception as e:\n",
    "        print(\"error: \", e)\n",
    "\n",
    "    finally:\n",
    "        cursor.close()\n",
    "    \n",
    "insert_user_soundfile(286615413381529601, 2, 'asmon1')"
   ]
  },
  {
   "cell_type": "code",
   "execution_count": 67,
   "metadata": {},
   "outputs": [
    {
     "name": "stdout",
     "output_type": "stream",
     "text": [
      "starting operation: find_user\n",
      "starting operation: find_soundfile\n",
      "starting operation: find_keyword_for_user\n",
      "user does not exist, please use signup first\n"
     ]
    }
   ],
   "source": [
    "#\n",
    "# insert new soundfile and hotkeyword to the user_soundfiles function\n",
    "#\n",
    "\n",
    "#realid = 286615413381529601\n",
    "wrongid = 213442134213412423\n",
    "\n",
    "#tbd: \n",
    "# check if user exists\n",
    "# if user exists check if entered soundfile exists in soundfiles table\n",
    "# if soundfile exists check if hotkeyword is not too long\n",
    "# if all criteria is fullfilled add the row to the database\n",
    "\n",
    "def addfavourite(userid, soundfilename, hotkeyword):\n",
    "    \n",
    "    userExists = find_user(userid)\n",
    "    soundfileExists = find_soundfile(soundfilename)\n",
    "    hotkeywordForUserExists = find_keyword_for_user(userid, hotkeyword)\n",
    "    \n",
    "    if userExists == False:\n",
    "        print(\"user does not exist, please use signup first\")\n",
    "        \n",
    "    elif soundfileExists == False:\n",
    "        print(\"Pahie does not know this soundfile. Please make sure to enter an existing soundfile!\")\n",
    "        \n",
    "    elif len(hotkeyword) >= 20:\n",
    "        print(\"Please enter a shorter keyword!\")\n",
    "        \n",
    "    elif hotkeywordForUserExists == True:\n",
    "        print(\"You already used this hotkeyword! Please enter a different one.\")\n",
    "        \n",
    "        \n",
    "    else:\n",
    "        user_id = userid\n",
    "        soundfile_id = get_soundfile_id(soundfilename)\n",
    "        hotkeyword\n",
    "        print(user_id,\",\", soundfile_id, \",\", hotkeyword)\n",
    "        \n",
    "        #insert row here!\n",
    "        \n",
    "        \n",
    "\n",
    "\n",
    "        \n",
    "addfavourite(wrongid, 'nissel-krimsekt', 'asmon2')"
   ]
  },
  {
   "cell_type": "code",
   "execution_count": 7,
   "metadata": {},
   "outputs": [],
   "source": [
    "cnx.close()"
   ]
  },
  {
   "cell_type": "code",
   "execution_count": 4,
   "metadata": {},
   "outputs": [],
   "source": [
    "######################\n",
    "## REDDIT API STUFF ##\n",
    "######################"
   ]
  },
  {
   "cell_type": "code",
   "execution_count": 5,
   "metadata": {},
   "outputs": [],
   "source": [
    "import os\n",
    "from pathlib import Path\n",
    "import json\n",
    "import logging\n",
    "import praw\n",
    "\n",
    "currentWorkingDirectory = os.path.abspath('')\n",
    "secretFile = json.load(open(currentWorkingDirectory+'/config/secrets.json'))\n",
    "\n",
    "use_script=secretFile['use_script']\n",
    "client_secret=secretFile['client_secret']\n",
    "user_agent=secretFile['user_agent']\n",
    "username=secretFile['username']\n",
    "password=secretFile['password']"
   ]
  },
  {
   "cell_type": "code",
   "execution_count": 6,
   "metadata": {},
   "outputs": [],
   "source": [
    "reddit = praw.Reddit(client_id = use_script, \n",
    "                     client_secret = client_secret,\n",
    "                     user_agent = user_agent,\n",
    "                     username = username,\n",
    "                     password = password)"
   ]
  },
  {
   "cell_type": "code",
   "execution_count": 7,
   "metadata": {
    "scrolled": true
   },
   "outputs": [],
   "source": [
    "subreddit_memes = reddit.subreddit(\"dankmemes\")\n",
    "hot_memes = subreddit_memes.hot(limit=5)"
   ]
  },
  {
   "cell_type": "code",
   "execution_count": 8,
   "metadata": {},
   "outputs": [
    {
     "data": {
      "text/plain": [
       "praw.models.listing.generator.ListingGenerator"
      ]
     },
     "execution_count": 8,
     "metadata": {},
     "output_type": "execute_result"
    }
   ],
   "source": [
    "type(hot_memes)"
   ]
  },
  {
   "cell_type": "code",
   "execution_count": 9,
   "metadata": {
    "scrolled": true
   },
   "outputs": [
    {
     "name": "stdout",
     "output_type": "stream",
     "text": [
      "Warning: May lead to abstinence https://i.redd.it/scqbyrb7rsu41.png\n",
      "ASTRONOMIA COFFIN DANCE IS YOUR MARCH 2020 MEME OF THE MONTH https://i.imgur.com/X9SDUVN.gif\n",
      "Did I miss anyone? https://i.redd.it/gkn1xu1cfcv41.gif\n",
      "Watch where you're going https://i.redd.it/f0zkm19k9dv41.gif\n",
      "The real battle royale https://i.redd.it/nvnb098z3cv41.jpg\n"
     ]
    }
   ],
   "source": [
    "for i in hot_memes:\n",
    "    print(i.title, i.url)"
   ]
  },
  {
   "cell_type": "code",
   "execution_count": 1,
   "metadata": {},
   "outputs": [],
   "source": [
    "######################\n",
    "##### QUOTE API ######\n",
    "######################"
   ]
  },
  {
   "cell_type": "code",
   "execution_count": 4,
   "metadata": {},
   "outputs": [
    {
     "name": "stdout",
     "output_type": "stream",
     "text": [
      "quote:The fact that one can lose one's sense of self in an ocean of tranquility does not mean that one's consciousness is immaterial or that it presided over the birth of the universe.\n",
      "author:Sam Harris\n"
     ]
    }
   ],
   "source": [
    "import requests\n",
    "import json\n",
    "url = ' https://opinionated-quotes-api.gigalixirapp.com/v1/quotes'\n",
    "response = requests.get(url).json()\n",
    "\n",
    "quote = response['quotes'][0]['quote']\n",
    "author = response['quotes'][0]['author']\n",
    "print(f\"quote:{quote}\\nauthor:{author}\")"
   ]
  },
  {
   "cell_type": "code",
   "execution_count": 5,
   "metadata": {},
   "outputs": [],
   "source": [
    "######################\n",
    "##### JOKE API #######\n",
    "######################"
   ]
  },
  {
   "cell_type": "code",
   "execution_count": 64,
   "metadata": {},
   "outputs": [],
   "source": [
    "jokeurl = 'https://sv443.net/jokeapi/v2/joke/Miscellaneous?blacklistFlags=racist,sexist'\n",
    "payload = {}\n",
    "headers = {'Accept':'application/json'}\n",
    "\n",
    "response = requests.request(\"GET\", jokeurl, headers=headers, data=payload).json()"
   ]
  },
  {
   "cell_type": "code",
   "execution_count": 65,
   "metadata": {
    "scrolled": true
   },
   "outputs": [
    {
     "data": {
      "text/plain": [
       "{'category': 'Miscellaneous',\n",
       " 'type': 'twopart',\n",
       " 'flags': {'nsfw': False,\n",
       "  'religious': False,\n",
       "  'political': False,\n",
       "  'racist': False,\n",
       "  'sexist': False},\n",
       " 'setup': 'Two guys walked into a bar.',\n",
       " 'delivery': 'The third guy ducked.',\n",
       " 'id': 170,\n",
       " 'error': False}"
      ]
     },
     "execution_count": 65,
     "metadata": {},
     "output_type": "execute_result"
    }
   ],
   "source": [
    "response"
   ]
  },
  {
   "cell_type": "code",
   "execution_count": 66,
   "metadata": {},
   "outputs": [
    {
     "name": "stdout",
     "output_type": "stream",
     "text": [
      "Two guys walked into a bar. The third guy ducked.\n"
     ]
    }
   ],
   "source": [
    "print(response['setup'], response['delivery'])"
   ]
  },
  {
   "cell_type": "code",
   "execution_count": 47,
   "metadata": {},
   "outputs": [
    {
     "data": {
      "text/plain": [
       "'.@lindseygraham, who had zero in his presidential run before dropping out in disgrace- saying the most horrible things about me on Fox News.'"
      ]
     },
     "execution_count": 47,
     "metadata": {},
     "output_type": "execute_result"
    }
   ],
   "source": [
    "#############################\n",
    "##### TRUMP QUOTE API #######\n",
    "#############################\n",
    "\n",
    "trumpurl = 'https://api.tronalddump.io/random/quote'\n",
    "response = requests.get(trumpurl).json()\n",
    "response['value']"
   ]
  },
  {
   "cell_type": "code",
   "execution_count": null,
   "metadata": {},
   "outputs": [],
   "source": [
    "#############################\n",
    "##### FOAAS API #############\n",
    "#############################"
   ]
  },
  {
   "cell_type": "code",
   "execution_count": null,
   "metadata": {},
   "outputs": [],
   "source": [
    "#https://www.foaas.com/"
   ]
  }
 ],
 "metadata": {
  "kernelspec": {
   "display_name": "pahiebot-env",
   "language": "python",
   "name": "pahiebot-env"
  },
  "language_info": {
   "codemirror_mode": {
    "name": "ipython",
    "version": 3
   },
   "file_extension": ".py",
   "mimetype": "text/x-python",
   "name": "python",
   "nbconvert_exporter": "python",
   "pygments_lexer": "ipython3",
   "version": "3.6.9"
  }
 },
 "nbformat": 4,
 "nbformat_minor": 2
}
