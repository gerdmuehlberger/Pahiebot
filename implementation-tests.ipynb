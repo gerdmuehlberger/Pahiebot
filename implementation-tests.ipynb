{
 "cells": [
  {
   "cell_type": "code",
   "execution_count": null,
   "metadata": {},
   "outputs": [],
   "source": [
    "#################\n",
    "## MYSQL STUFF ##\n",
    "#################"
   ]
  },
  {
   "cell_type": "code",
   "execution_count": 1,
   "metadata": {
    "scrolled": true
   },
   "outputs": [],
   "source": [
    "import os\n",
    "import mysql.connector\n",
    "from mysql.connector import errorcode\n",
    "from pathlib import Path\n",
    "import json\n",
    "import logging\n",
    "\n",
    "\n",
    "currentWorkingDirectory = os.path.abspath('')\n",
    "secretFile = json.load(open(currentWorkingDirectory+'/config/secrets.json'))\n",
    "dbhost = secretFile['dbhost']\n",
    "dbname = secretFile['db']\n",
    "dbuser = secretFile['dbuser']\n",
    "dbpass = secretFile['dbpass']\n"
   ]
  },
  {
   "cell_type": "code",
   "execution_count": 2,
   "metadata": {},
   "outputs": [
    {
     "name": "stdout",
     "output_type": "stream",
     "text": [
      "connection successfully established.\n"
     ]
    }
   ],
   "source": [
    "try:\n",
    "    cnx = mysql.connector.connect(user=dbuser, password=dbpass,\n",
    "                                  host=dbhost,\n",
    "                                  database=dbname)\n",
    "    print(\"connection successfully established.\")\n",
    "    \n",
    "except mysql.connector.Error as err:\n",
    "  if err.errno == errorcode.ER_ACCESS_DENIED_ERROR:\n",
    "    print(\"Invalid user credentials.\")\n",
    "  elif err.errno == errorcode.ER_BAD_DB_ERROR:\n",
    "    print(\"Database does not exist\")\n",
    "  else:\n",
    "    print(err)\n",
    "    cnx.close()"
   ]
  },
  {
   "cell_type": "code",
   "execution_count": 3,
   "metadata": {},
   "outputs": [],
   "source": [
    "cnx.close()"
   ]
  },
  {
   "cell_type": "code",
   "execution_count": 1,
   "metadata": {},
   "outputs": [],
   "source": [
    "######################\n",
    "## REDDIT API STUFF ##\n",
    "######################"
   ]
  },
  {
   "cell_type": "code",
   "execution_count": 26,
   "metadata": {},
   "outputs": [],
   "source": [
    "import os\n",
    "from pathlib import Path\n",
    "import json\n",
    "import logging\n",
    "import praw\n",
    "\n",
    "currentWorkingDirectory = os.path.abspath('')\n",
    "secretFile = json.load(open(currentWorkingDirectory+'/config/secrets.json'))\n",
    "\n",
    "use_script=secretFile['use_script']\n",
    "client_secret=secretFile['client_secret']\n",
    "user_agent=secretFile['user_agent']\n",
    "username=secretFile['username']\n",
    "password=secretFile['password']"
   ]
  },
  {
   "cell_type": "code",
   "execution_count": 27,
   "metadata": {},
   "outputs": [],
   "source": [
    "reddit = praw.Reddit(client_id = use_script, \n",
    "                     client_secret = client_secret,\n",
    "                     user_agent = user_agent,\n",
    "                     username = username,\n",
    "                     password = password)"
   ]
  },
  {
   "cell_type": "code",
   "execution_count": 28,
   "metadata": {
    "scrolled": true
   },
   "outputs": [],
   "source": [
    "subreddit_memes = reddit.subreddit(\"dankmemes\")\n",
    "hot_memes = subreddit_memes.hot(limit=5)"
   ]
  },
  {
   "cell_type": "code",
   "execution_count": 29,
   "metadata": {},
   "outputs": [
    {
     "data": {
      "text/plain": [
       "praw.models.listing.generator.ListingGenerator"
      ]
     },
     "execution_count": 29,
     "metadata": {},
     "output_type": "execute_result"
    }
   ],
   "source": [
    "type(hot_memes)"
   ]
  },
  {
   "cell_type": "code",
   "execution_count": 30,
   "metadata": {
    "scrolled": true
   },
   "outputs": [
    {
     "name": "stdout",
     "output_type": "stream",
     "text": [
      "Come join the fun! https://i.redd.it/a3ux7p9w14r41.gif\n",
      "It sucks https://i.redd.it/a773987slkr41.gif\n",
      "How tf did he do that? https://i.redd.it/agjzxl7ztkr41.gif\n",
      "Lovin the view https://i.redd.it/47rbryagolr41.jpg\n",
      "Keep dreaming, fellas. https://i.redd.it/paqyw4uy2lr41.jpg\n"
     ]
    }
   ],
   "source": [
    "for i in hot_memes:\n",
    "    print(i.title, i.url)"
   ]
  },
  {
   "cell_type": "code",
   "execution_count": null,
   "metadata": {},
   "outputs": [],
   "source": []
  }
 ],
 "metadata": {
  "kernelspec": {
   "display_name": "Python 3",
   "language": "python",
   "name": "python3"
  },
  "language_info": {
   "codemirror_mode": {
    "name": "ipython",
    "version": 3
   },
   "file_extension": ".py",
   "mimetype": "text/x-python",
   "name": "python",
   "nbconvert_exporter": "python",
   "pygments_lexer": "ipython3",
   "version": "3.7.1"
  }
 },
 "nbformat": 4,
 "nbformat_minor": 2
}
